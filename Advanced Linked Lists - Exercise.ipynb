{
 "cells": [
  {
   "cell_type": "markdown",
   "metadata": {},
   "source": [
    "# LAB | PY Linked List Exercises (Advanced)\n"
   ]
  },
  {
   "cell_type": "markdown",
   "metadata": {},
   "source": [
    "\n",
    "## Overview\n"
   ]
  },
  {
   "cell_type": "markdown",
   "metadata": {},
   "source": [
    "\n",
    "This exercise set focuses on various operations and problems related to linked lists in Python. Each exercise is categorized by difficulty level, and examples are provided for clarity.\n"
   ]
  },
  {
   "cell_type": "markdown",
   "metadata": {},
   "source": [
    "\n",
    "## Instructions\n"
   ]
  },
  {
   "cell_type": "markdown",
   "metadata": {},
   "source": [
    "\n",
    "- Complete each exercise by writing the appropriate Python code.\n",
    "- Complete your code in a Jupyter Notebook (.ipynb) format.\n",
    "- Submit the link to your forked repository containing the notebook with your implementation.\n",
    "\n",
    "Make sure to follow these steps carefully to ensure proper submission of your work.\n"
   ]
  },
  {
   "cell_type": "markdown",
   "metadata": {},
   "source": [
    "\n",
    "\n",
    "## Exercises\n"
   ]
  },
  {
   "cell_type": "markdown",
   "metadata": {},
   "source": [
    "1. **Create a Singly Linked List**\n",
    "   - Write a Python program to create a singly linked list, append some items, and iterate through the list.\n",
    "\n",
    "   ```Example:\n",
    "   Input: linked list: 10->20->30\n",
    "   Output: 10 20 30\n",
    "   ```\n"
   ]
  },
  {
   "cell_type": "code",
   "execution_count": 12,
   "metadata": {},
   "outputs": [],
   "source": [
    "# [your code here]\n",
    "# TODO\n",
    "# Create a hard-coded linked list\n",
    "# Iterate through the list and print the values"
   ]
  },
  {
   "cell_type": "markdown",
   "metadata": {},
   "source": [
    "```\n"
   ]
  },
  {
   "cell_type": "markdown",
   "metadata": {},
   "source": [
    "2. **Find Size of a Singly Linked List**\n",
    "   - Write a Python program to find the size of a singly linked list.\n",
    "   ```Example:\n",
    "   Input: linked list: 1->2->3->4->5\n",
    "   Output: 5\n",
    "   ```"
   ]
  },
  {
   "cell_type": "code",
   "execution_count": 13,
   "metadata": {},
   "outputs": [],
   "source": [
    "# [your code here]\n",
    "# TODO\n",
    "# Create a hard-coded linked list\n",
    "# Calculate the size of the linked list"
   ]
  },
  {
   "cell_type": "markdown",
   "metadata": {},
   "source": [
    "3. **Search for an Item in a Singly Linked List**\n",
    "   - Write a Python program to search for a specific item in a singly linked list and return true if the item is found; otherwise, return false.\n",
    "\n",
    "   ```Example:\n",
    "   Input: linked list: 1->2->3->4, search for 3\n",
    "   Output: True\n",
    "   ```"
   ]
  },
  {
   "cell_type": "code",
   "execution_count": 14,
   "metadata": {},
   "outputs": [],
   "source": [
    "# [your code here]\n",
    "\n",
    "# TODO\n",
    "# Search for an item in the linked list"
   ]
  },
  {
   "cell_type": "markdown",
   "metadata": {},
   "source": [
    "\n",
    "4. **Access an Item by Index in a Singly Linked List**\n",
    "   - Write a Python program to access a specific item in a singly linked list using index value.\n",
    "\n",
    "   ```Example:\n",
    "   Input: linked list: 1->2->3->4->5, index 2\n",
    "   Output: 3\n",
    "   ```"
   ]
  },
  {
   "cell_type": "code",
   "execution_count": 15,
   "metadata": {},
   "outputs": [],
   "source": [
    "# [your code here]\n",
    "# TODO\n",
    "# Access an item by index in the linked list"
   ]
  },
  {
   "cell_type": "markdown",
   "metadata": {},
   "source": [
    "\n",
    "5. **Delete the First Item from a Singly Linked List**\n",
    "   - Write a Python program to delete the first item from a singly linked list.\n",
    "\n",
    "   ```Example:\n",
    "   Input: linked list: 1->2->3->4->5\n",
    "   Output: 2->3->4->5\n",
    "   ```"
   ]
  },
  {
   "cell_type": "code",
   "execution_count": 16,
   "metadata": {},
   "outputs": [],
   "source": [
    "# [your code here]\n",
    "\n",
    "# TODO\n",
    "# Delete the first item from the linked list"
   ]
  },
  {
   "cell_type": "markdown",
   "metadata": {},
   "source": [
    "\n",
    "6. **Delete the Last Item from a Singly Linked List**\n",
    "    - Write a Python program to delete the last item from a singly linked list.\n",
    "\n",
    "    ```Example:\n",
    "    Input: linked list: 1->2->3->4->5\n",
    "    Output: 1->2->3->4\n",
    "    ```"
   ]
  },
  {
   "cell_type": "code",
   "execution_count": 17,
   "metadata": {},
   "outputs": [],
   "source": [
    "# [your code here]\n",
    "# TODO\n",
    "# Delete the last item from the linked list"
   ]
  },
  {
   "cell_type": "markdown",
   "metadata": {},
   "source": [
    "\n",
    "7. **Find Middle of a Singly Linked List**\n",
    "    - Write a Python program to find the middle node of a singly linked list.\n",
    "\n",
    "    ```Example:\n",
    "    Input: linked list: 1->2->3->4->5\n",
    "    Output: 3\n",
    "    ```"
   ]
  },
  {
   "cell_type": "code",
   "execution_count": 18,
   "metadata": {},
   "outputs": [],
   "source": [
    "# [your code here]\n",
    "# TODO\n",
    "# Find the middle node of a singly linked list"
   ]
  },
  {
   "cell_type": "markdown",
   "metadata": {},
   "source": [
    "8. **Remove Duplicates from a Singly Linked List**\n",
    "    - Write a Python program to remove duplicates from a singly linked list.\n",
    "\n",
    "    ```Example:\n",
    "    Input: linked list: 1->2->3->2->1\n",
    "    Output: 1->2->3\n",
    "    ```"
   ]
  },
  {
   "cell_type": "code",
   "execution_count": 19,
   "metadata": {},
   "outputs": [],
   "source": [
    "# [your code here]\n",
    "# TODO\n",
    "# Remove duplicates from the linked list"
   ]
  },
  {
   "cell_type": "markdown",
   "metadata": {},
   "source": [
    "\n",
    "## Advanced Exercises\n"
   ]
  },
  {
   "cell_type": "markdown",
   "metadata": {},
   "source": [
    "\n",
    "1. **Reverse a Singly Linked List**\n",
    "    - Write a Python program to reverse a singly linked list.\n",
    "\n",
    "    ```Example:\n",
    "    Input: linked list: 1->2->3->4\n",
    "    Output: 4->3->2->1\n",
    "    ```"
   ]
  },
  {
   "cell_type": "code",
   "execution_count": 20,
   "metadata": {},
   "outputs": [],
   "source": [
    "# [your code here]\n",
    "# TODO\n",
    "# Reverse the singly linked list"
   ]
  },
  {
   "cell_type": "markdown",
   "metadata": {},
   "source": [
    "2. **Merge Two Sorted Linked Lists**\n",
    "     - Write a Python program to merge two sorted singly linked lists into one sorted singly linked list.\n",
    "\n",
    "     ```Example:\n",
    "     Input: l1: 1->3->5, l2: 2->4\n",
    "     Output: 1->2->3->4->5\n",
    "     ```\n"
   ]
  },
  {
   "cell_type": "code",
   "execution_count": 21,
   "metadata": {},
   "outputs": [],
   "source": [
    "# [your code here]\n",
    "# TODO\n",
    "# Merge two sorted singly linked lists"
   ]
  },
  {
   "cell_type": "markdown",
   "metadata": {},
   "source": [
    "\n",
    "##  Bonus Challenges\n"
   ]
  },
  {
   "cell_type": "markdown",
   "metadata": {},
   "source": [
    "\n",
    "1. **Detect Cycle in a Singly Linked List**\n",
    "    - Write a Python program to detect if there is a cycle in the singly linked list.\n",
    "\n",
    "    ```Example:\n",
    "    Input: linked list with cycle (e.g., last node points back to node with value 3)\n",
    "    Output: True\n",
    "    ```\n"
   ]
  },
  {
   "cell_type": "code",
   "execution_count": 22,
   "metadata": {},
   "outputs": [],
   "source": [
    "# [your code here]\n",
    "# TODO\n",
    "# Create nodes and form cycle manually for testing"
   ]
  },
  {
   "cell_type": "markdown",
   "metadata": {},
   "source": [
    "\n",
    "2. **Flatten Multilevel Doubly Linked List**\n",
    "     - Write a Python program to flatten a multilevel doubly linked list into a single-level doubly linked list.\n",
    "\n",
    "     ```Example:\n",
    "     Input: multilevel doubly linked list with child pointers\n",
    "     Output: flattened doubly linked list\n",
    "     ```"
   ]
  },
  {
   "cell_type": "code",
   "execution_count": 23,
   "metadata": {},
   "outputs": [],
   "source": [
    "# [your code here]\n",
    "# TODO\n",
    "# Create multilevel doubly linked nodes for testing"
   ]
  },
  {
   "cell_type": "markdown",
   "metadata": {},
   "source": [
    "\n",
    "### Exercise Completion\n",
    "Once you have completed all exercises:\n",
    "- Review your solutions.\n",
    "- Ensure your Python code are well-documented with comments explaining your logic.\n",
    "- Save your notebook for submission or further review.\n",
    "\n",
    "Happy coding! Enjoy practicing Arrays in Python!"
   ]
  }
 ],
 "metadata": {
  "kernelspec": {
   "display_name": "Python 3",
   "language": "python",
   "name": "python3"
  },
  "language_info": {
   "codemirror_mode": {
    "name": "ipython",
    "version": 3
   },
   "file_extension": ".py",
   "mimetype": "text/x-python",
   "name": "python",
   "nbconvert_exporter": "python",
   "pygments_lexer": "ipython3",
   "version": "3.8.0"
  }
 },
 "nbformat": 4,
 "nbformat_minor": 2
}
